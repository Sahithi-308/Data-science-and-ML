{
 "cells": [
  {
   "cell_type": "code",
   "execution_count": 20,
   "metadata": {},
   "outputs": [
    {
     "name": "stdout",
     "output_type": "stream",
     "text": [
      "enter your string: ksahithi\n",
      "length of your string is: 8\n",
      "It is even\n",
      "h i\n"
     ]
    }
   ],
   "source": [
    "string=input(\"enter your string: \")\n",
    "print(\"length of your string is:\",len(string))\n",
    "\n",
    "if len(string)%2==0:\n",
    "    print(\"It is even\")\n",
    "    print(string[(len(string)//2)-1],string[len(string)//2])\n",
    "else:\n",
    "    print(\"It is odd\")\n",
    "    print(string[len(string)//2])\n",
    "    "
   ]
  },
  {
   "cell_type": "code",
   "execution_count": null,
   "metadata": {},
   "outputs": [],
   "source": []
  }
 ],
 "metadata": {
  "kernelspec": {
   "display_name": "Python 3",
   "language": "python",
   "name": "python3"
  },
  "language_info": {
   "codemirror_mode": {
    "name": "ipython",
    "version": 3
   },
   "file_extension": ".py",
   "mimetype": "text/x-python",
   "name": "python",
   "nbconvert_exporter": "python",
   "pygments_lexer": "ipython3",
   "version": "3.7.6"
  }
 },
 "nbformat": 4,
 "nbformat_minor": 4
}
