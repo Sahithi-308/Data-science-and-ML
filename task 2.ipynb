{
 "cells": [
  {
   "cell_type": "code",
   "execution_count": 6,
   "metadata": {},
   "outputs": [
    {
     "name": "stdout",
     "output_type": "stream",
     "text": [
      "Enter the age:45\n",
      "Eligible for vote\n"
     ]
    }
   ],
   "source": [
    "#checking whether the user eligible for vote or not\n",
    "\n",
    "age=input(\"Enter the age:\")\n",
    "if age>'18':\n",
    "    print(\"Eligible for vote\")\n",
    "else:\n",
    "    print(\"Not eligible for vote\")"
   ]
  },
  {
   "cell_type": "code",
   "execution_count": null,
   "metadata": {},
   "outputs": [],
   "source": []
  },
  {
   "cell_type": "code",
   "execution_count": null,
   "metadata": {},
   "outputs": [],
   "source": []
  },
  {
   "cell_type": "code",
   "execution_count": 8,
   "metadata": {},
   "outputs": [
    {
     "name": "stdout",
     "output_type": "stream",
     "text": [
      "enter the number:-6\n",
      "Number is negative\n"
     ]
    }
   ],
   "source": [
    "#checking number whether it is positive or not\n",
    "\n",
    "num=input(\"enter the number:\")\n",
    "if num>='0':\n",
    "    print(\"Number is positive\")\n",
    "else:\n",
    "    print(\"Number is negative\")"
   ]
  },
  {
   "cell_type": "code",
   "execution_count": 24,
   "metadata": {},
   "outputs": [
    {
     "name": "stdout",
     "output_type": "stream",
     "text": [
      "Enter the number3\n",
      "It is odd\n"
     ]
    }
   ],
   "source": [
    "#check whether the number is even or odd \n",
    "\n",
    "num=int(input(\"Enter the number\"))\n",
    "if num%2==0:\n",
    "    print(\"It is even\")\n",
    "else:\n",
    "     print(\"It is odd\")\n",
    "        "
   ]
  },
  {
   "cell_type": "code",
   "execution_count": 38,
   "metadata": {},
   "outputs": [
    {
     "name": "stdout",
     "output_type": "stream",
     "text": [
      "enter the percentage74\n",
      "B\n"
     ]
    }
   ],
   "source": [
    "#print student grade based on percentage like distinction,fail,pass\n",
    "\n",
    "percentage=input(\"enter the percentage\")\n",
    "if percentage>='90':\n",
    "    print(\"A\")\n",
    "elif percentage>='40' and percentage<='90':\n",
    "    print(\"B\")\n",
    "else:\n",
    "    print(\"C\")"
   ]
  },
  {
   "cell_type": "code",
   "execution_count": 46,
   "metadata": {},
   "outputs": [
    {
     "name": "stdout",
     "output_type": "stream",
     "text": [
      "enter the year:2000\n",
      "leap year\n"
     ]
    }
   ],
   "source": [
    "#check whether the year is leap year or not\n",
    "\n",
    "year=int(input(\"enter the year:\"))\n",
    "if year%4==0:\n",
    "    print(\"leap year\")\n",
    "else:\n",
    "    print(\"not a leap year\")"
   ]
  },
  {
   "cell_type": "code",
   "execution_count": null,
   "metadata": {},
   "outputs": [],
   "source": []
  },
  {
   "cell_type": "code",
   "execution_count": null,
   "metadata": {},
   "outputs": [],
   "source": []
  }
 ],
 "metadata": {
  "kernelspec": {
   "display_name": "Python 3",
   "language": "python",
   "name": "python3"
  },
  "language_info": {
   "codemirror_mode": {
    "name": "ipython",
    "version": 3
   },
   "file_extension": ".py",
   "mimetype": "text/x-python",
   "name": "python",
   "nbconvert_exporter": "python",
   "pygments_lexer": "ipython3",
   "version": "3.7.6"
  }
 },
 "nbformat": 4,
 "nbformat_minor": 4
}
