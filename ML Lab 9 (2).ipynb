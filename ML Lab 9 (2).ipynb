{
  "nbformat": 4,
  "nbformat_minor": 0,
  "metadata": {
    "colab": {
      "name": "ML Lab 9.ipynb",
      "provenance": []
    },
    "kernelspec": {
      "name": "python3",
      "display_name": "Python 3"
    },
    "language_info": {
      "name": "python"
    }
  },
  "cells": [
    {
      "cell_type": "code",
      "execution_count": 57,
      "metadata": {
        "colab": {
          "base_uri": "https://localhost:8080/"
        },
        "id": "hw-U-uhuVq8z",
        "outputId": "682c77be-f535-48a4-b2d0-df9b34de05d1"
      },
      "outputs": [
        {
          "output_type": "stream",
          "name": "stdout",
          "text": [
            "[[2 1]\n",
            " [3 4]\n",
            " [5 0]\n",
            " [7 6]\n",
            " [9 2]]\n"
          ]
        }
      ],
      "source": [
        "import pandas as pd\n",
        "import numpy as np\n",
        "\n",
        "\n",
        "numpy_data = np.array([[2, 1], [3, 4],[5, 0] , [7, 6], [9, 2]])\n",
        "df_wine = numpy_data\n",
        "print(df_wine)"
      ]
    },
    {
      "cell_type": "code",
      "source": [
        "import numpy as np\n",
        "\n",
        "cov_mat = np.cov(df_wine.T)\n",
        "eigen_vals, eigen_vecs = np.linalg.eig(cov_mat)\n",
        "print(eigen_vals,\"\\n\",eigen_vecs)"
      ],
      "metadata": {
        "colab": {
          "base_uri": "https://localhost:8080/"
        },
        "id": "-NMlORaBXOsN",
        "outputId": "31b67207-1474-4f80-f9af-0d5fae83f482"
      },
      "execution_count": 65,
      "outputs": [
        {
          "output_type": "stream",
          "name": "stdout",
          "text": [
            "[9. 5.] \n",
            " [[ 0.89442719 -0.4472136 ]\n",
            " [ 0.4472136   0.89442719]]\n"
          ]
        }
      ]
    },
    {
      "cell_type": "code",
      "source": [
        "eigen_pairs = [(np.abs(eigen_vals[i]), eigen_vecs[:, i]) for i in range(len(eigen_vals))]\n",
        "\n",
        "# Sort the (eigenvalue, eigenvector) tuples from high to low\n",
        "eigen_pairs.sort(key=lambda k: k[0], reverse=True)\n",
        "\n"
      ],
      "metadata": {
        "id": "FDw4WLjNXunE"
      },
      "execution_count": 66,
      "outputs": []
    },
    {
      "cell_type": "code",
      "source": [
        "w = np.hstack((eigen_pairs[0][1][:, np.newaxis], eigen_pairs[1][1][:, np.newaxis]))\n",
        "print('Matrix W:\\n', w)"
      ],
      "metadata": {
        "colab": {
          "base_uri": "https://localhost:8080/"
        },
        "id": "HggxYL2DYqEu",
        "outputId": "367d9998-fdfb-49fd-f781-62275522f84f"
      },
      "execution_count": 67,
      "outputs": [
        {
          "output_type": "stream",
          "name": "stdout",
          "text": [
            "Matrix W:\n",
            " [[ 0.89442719 -0.4472136 ]\n",
            " [ 0.4472136   0.89442719]]\n"
          ]
        }
      ]
    },
    {
      "cell_type": "code",
      "source": [
        "print(df_wine[0].dot(w))"
      ],
      "metadata": {
        "colab": {
          "base_uri": "https://localhost:8080/"
        },
        "id": "foyYTwfbZXYr",
        "outputId": "d872c452-1092-47c5-916e-56ce14043a9a"
      },
      "execution_count": 68,
      "outputs": [
        {
          "output_type": "stream",
          "name": "stdout",
          "text": [
            "[2.23606798e+00 1.11022302e-16]\n"
          ]
        }
      ]
    },
    {
      "cell_type": "code",
      "source": [
        "X_pca=np.array ([0*5])\n",
        "\n",
        "X_pca = df_wine.dot(w)\n",
        "print(X_pca)"
      ],
      "metadata": {
        "colab": {
          "base_uri": "https://localhost:8080/"
        },
        "id": "agqcX0pNZ0wJ",
        "outputId": "48827746-5cbf-4c72-ad22-aa34ba41dc2e"
      },
      "execution_count": 82,
      "outputs": [
        {
          "output_type": "stream",
          "name": "stdout",
          "text": [
            "[[ 2.23606798e+00  1.11022302e-16]\n",
            " [ 4.47213595e+00  2.23606798e+00]\n",
            " [ 4.47213595e+00 -2.23606798e+00]\n",
            " [ 8.94427191e+00  2.23606798e+00]\n",
            " [ 8.94427191e+00 -2.23606798e+00]]\n"
          ]
        }
      ]
    },
    {
      "cell_type": "code",
      "source": [
        "y_train = []\n",
        "for i in range(len(df_wine)):\n",
        "  y_train.append(df_wine[i][1])\n",
        "print(y_train)"
      ],
      "metadata": {
        "colab": {
          "base_uri": "https://localhost:8080/"
        },
        "id": "jO04A3Q6eUUG",
        "outputId": "dafff8b1-e9cc-4718-944d-eb931ce4e81d"
      },
      "execution_count": 83,
      "outputs": [
        {
          "output_type": "stream",
          "name": "stdout",
          "text": [
            "[1, 4, 0, 6, 2]\n"
          ]
        }
      ]
    },
    {
      "cell_type": "code",
      "source": [
        "colors = ['r', 'b', 'g']\n",
        "markers = ['s', 'x', 'o']\n",
        "for l, c, m in zip(np.unique(y_train), colors, markers):\n",
        "    plt.scatter(X_pca[y_train==l, 0], \n",
        "                X_pca[y_train==l, 1], \n",
        "                c=c, label=l , marker=m) \n",
        "plt.xlabel('PC 1')\n",
        "plt.ylabel('PC 2')\n",
        "plt.legend(loc='lower left')\n",
        "plt.show()"
      ],
      "metadata": {
        "colab": {
          "base_uri": "https://localhost:8080/",
          "height": 279
        },
        "id": "HYNL3LNwdgGI",
        "outputId": "4732c10d-2bc3-4ec6-e54f-eddcee2264c1"
      },
      "execution_count": 86,
      "outputs": [
        {
          "output_type": "display_data",
          "data": {
            "text/plain": [
              "<Figure size 432x288 with 1 Axes>"
            ],
            "image/png": "[encoded data removed]"
          },
          "metadata": {
            "needs_background": "light"
          }
        }
      ]
    },
    {
      "cell_type": "code",
      "source": [
        "iris_data = pd.read_csv('iris.csv')"
      ],
      "metadata": {
        "id": "PdYboO7oegss"
      },
      "execution_count": 89,
      "outputs": []
    },
    {
      "cell_type": "code",
      "source": [
        "X = iris_data.drop(['Species'],axis=1)\n",
        "y = iris_data.Species"
      ],
      "metadata": {
        "id": "eQn_Qlh-iIvU"
      },
      "execution_count": 92,
      "outputs": []
    },
    {
      "cell_type": "code",
      "source": [
        "from sklearn.preprocessing import MinMaxScaler\n",
        "scaler = MinMaxScaler()\n",
        "X=scaler.fit_transform(X)"
      ],
      "metadata": {
        "id": "CEDIy8OHiO8f"
      },
      "execution_count": 101,
      "outputs": []
    },
    {
      "cell_type": "code",
      "source": [
        "X_train, X_test, y_train, y_test = train_test_split(X, y, test_size = 0.3, random_state=20, stratify=y)"
      ],
      "metadata": {
        "id": "GMgB8972iTdh"
      },
      "execution_count": 102,
      "outputs": []
    },
    {
      "cell_type": "code",
      "source": [
        "from sklearn.neighbors import KNeighborsClassifier\n",
        "knn = KNeighborsClassifier(7)\n",
        "knn.fit(X_train,y_train)\n",
        "print(\"Train score before PCA\",knn.score(X_train,y_train),\"%\")\n",
        "print(\"Test score before PCA\",knn.score(X_test,y_test),\"%\")"
      ],
      "metadata": {
        "colab": {
          "base_uri": "https://localhost:8080/"
        },
        "id": "3lKPCsTCiVyA",
        "outputId": "9be13758-071b-4bd0-acb8-73192d1a62ed"
      },
      "execution_count": 103,
      "outputs": [
        {
          "output_type": "stream",
          "name": "stdout",
          "text": [
            "Train score before PCA 0.9714285714285714 %\n",
            "Test score before PCA 0.9777777777777777 %\n"
          ]
        }
      ]
    },
    {
      "cell_type": "code",
      "source": [
        "classifier = knn\n",
        "from matplotlib.colors import ListedColormap\n",
        "X_set, y_set = X_test, y_test\n",
        "X1, X2 = np.meshgrid(np.arange(start = X_set[:, 0].min() - 1, stop = X_set[:, 0].max() + 1, step = 0.01),\n",
        "                     np.arange(start = X_set[:, 1].min() - 1, stop = X_set[:, 1].max() + 1, step = 0.01))\n",
        "plt.contourf(X1, X2, classifier.predict(np.array([X1.ravel(), X2.ravel(),np.zeros((X1.shape[0],X1.shape[1])).ravel()]).T).reshape(X1.shape),\n",
        "             alpha = 0.75, cmap = ListedColormap(('pink', 'lightgreen')))\n",
        "plt.xlim(X1.min(), X1.max())\n",
        "plt.ylim(X2.min(), X2.max())\n",
        "for i, j in enumerate(np.unique(y_set)):\n",
        "    plt.scatter(X_set[y_set == j, 0], X_set[y_set == j, 1],\n",
        "                c = ListedColormap(('red', 'green'))(i), label = j)\n",
        "plt.title('KNN(Test set)')\n",
        "plt.xlabel('PC1')\n",
        "plt.ylabel('PC2')\n",
        "plt.legend()\n",
        "plt.show()\n"
      ],
      "metadata": {
        "id": "y6dmnenMiY45"
      },
      "execution_count": null,
      "outputs": []
    },
    {
      "cell_type": "code",
      "source": [
        ""
      ],
      "metadata": {
        "id": "aec7orA3iuVT"
      },
      "execution_count": null,
      "outputs": []
    }
  ]
}