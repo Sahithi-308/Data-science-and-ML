{
 "cells": [
  {
   "cell_type": "code",
   "execution_count": 3,
   "metadata": {},
   "outputs": [
    {
     "name": "stdout",
     "output_type": "stream",
     "text": [
      "radius=3\n",
      "area of circle=  28.274333882308138\n"
     ]
    }
   ],
   "source": [
    "##area of circle\n",
    "from math import pi\n",
    "r=int(input(\"radius=\"))\n",
    "print(\"area of circle= \",pi*(r**2))"
   ]
  },
  {
   "cell_type": "code",
   "execution_count": 6,
   "metadata": {},
   "outputs": [
    {
     "name": "stdout",
     "output_type": "stream",
     "text": [
      "length of rectangle:2\n",
      "breadth of rectangle:3\n",
      "area of rectangle: 6\n"
     ]
    }
   ],
   "source": [
    "###area of rectangle\n",
    "\n",
    "l=int(input(\"length of rectangle:\"))\n",
    "b=int(input(\"breadth of rectangle:\"))\n",
    "print(\"area of rectangle:\",l*b)"
   ]
  },
  {
   "cell_type": "code",
   "execution_count": 8,
   "metadata": {},
   "outputs": [
    {
     "name": "stdout",
     "output_type": "stream",
     "text": [
      "enter the base:2\n",
      "enter the height3\n",
      "area of triangle: 3.0\n"
     ]
    }
   ],
   "source": [
    "##area of triangle\n",
    "b=int(input(\"enter the base:\"))\n",
    "h=int(input(\"enter the height\"))\n",
    "print(\"area of triangle:\",0.5*(b*h))"
   ]
  },
  {
   "cell_type": "code",
   "execution_count": 11,
   "metadata": {},
   "outputs": [
    {
     "name": "stdout",
     "output_type": "stream",
     "text": [
      "enter the side lenghth:2\n",
      "area of square: 4\n"
     ]
    }
   ],
   "source": [
    "###area of square\n",
    "side=int(input(\"enter the side lenghth:\"))\n",
    "print(\"area of square:\",side*side)"
   ]
  },
  {
   "cell_type": "code",
   "execution_count": 21,
   "metadata": {},
   "outputs": [
    {
     "name": "stdout",
     "output_type": "stream",
     "text": [
      "enter your password:sai\n",
      "confirm your password:sai\n"
     ]
    }
   ],
   "source": [
    "##write a password,if it is correct speak out you welcome to your world or else try again\n",
    "\n",
    "\n",
    "password=input(\"enter your password:\")\n",
    "confirm_password=input(\"confirm your password:\")\n",
    "if(password==confirm_password):\n",
    "    spk=pyttsx3.init()\n",
    "    spk.say(\"welcome to your world\")\n",
    "    spk.runAndWait()\n",
    "else:\n",
    "    spk=pyttsx3.init()\n",
    "    spk.say(\"please,try again\")\n",
    "    spk.runAndWait()"
   ]
  },
  {
   "cell_type": "code",
   "execution_count": null,
   "metadata": {},
   "outputs": [],
   "source": []
  }
 ],
 "metadata": {
  "kernelspec": {
   "display_name": "Python 3",
   "language": "python",
   "name": "python3"
  },
  "language_info": {
   "codemirror_mode": {
    "name": "ipython",
    "version": 3
   },
   "file_extension": ".py",
   "mimetype": "text/x-python",
   "name": "python",
   "nbconvert_exporter": "python",
   "pygments_lexer": "ipython3",
   "version": "3.7.6"
  }
 },
 "nbformat": 4,
 "nbformat_minor": 4
}
