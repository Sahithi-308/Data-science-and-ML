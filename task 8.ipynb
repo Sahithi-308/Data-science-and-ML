{
 "cells": [
  {
   "cell_type": "code",
   "execution_count": 7,
   "metadata": {},
   "outputs": [
    {
     "name": "stdout",
     "output_type": "stream",
     "text": [
      "2000\n",
      "2004\n",
      "2008\n",
      "2012\n",
      "2016\n",
      "2020\n"
     ]
    }
   ],
   "source": [
    "###finding leap year in given range\n",
    "def leap_year(s,n):\n",
    "    \n",
    "    for i in range(s,n+1):\n",
    "        if(i%4==0 and i%100!=0) or (i%400==0):\n",
    "            print(i)\n",
    "            \n",
    "leap_year(2000,2021)"
   ]
  },
  {
   "cell_type": "code",
   "execution_count": 14,
   "metadata": {},
   "outputs": [
    {
     "name": "stdout",
     "output_type": "stream",
     "text": [
      "1804\n",
      "1808\n",
      "1812\n",
      "1816\n",
      "1820\n",
      "1824\n",
      "1828\n",
      "1832\n",
      "1836\n",
      "1840\n",
      "1844\n",
      "1848\n",
      "1852\n",
      "1856\n",
      "1860\n",
      "1864\n",
      "1868\n",
      "1872\n",
      "1876\n",
      "1880\n",
      "1884\n",
      "1888\n",
      "1892\n",
      "1896\n",
      "1904\n",
      "1908\n",
      "1912\n",
      "1916\n",
      "1920\n",
      "1924\n",
      "1928\n",
      "1932\n",
      "1936\n",
      "1940\n",
      "1944\n",
      "1948\n",
      "1952\n",
      "1956\n",
      "1960\n",
      "1964\n",
      "1968\n",
      "1972\n",
      "1976\n",
      "1980\n",
      "1984\n",
      "1988\n",
      "1992\n",
      "1996\n",
      "2000\n",
      "2004\n",
      "2008\n",
      "2012\n",
      "2016\n",
      "2020\n",
      "None\n"
     ]
    }
   ],
   "source": [
    "print(leap_year(1800,2021))"
   ]
  },
  {
   "cell_type": "code",
   "execution_count": 56,
   "metadata": {},
   "outputs": [
    {
     "name": "stdout",
     "output_type": "stream",
     "text": [
      "153\n",
      "370\n",
      "371\n",
      "407\n",
      "1634\n"
     ]
    }
   ],
   "source": [
    "###getting amstrong number in between range\n",
    "#Armstrong number is a number that is equal to the sum of cubes of its digits\n",
    "##153 = (1*1*1)+ (5*5*5)+ (3*3*3)\n",
    "def amstrong(s,n):\n",
    "    for i in range(s,n+1):\n",
    "        sum=0\n",
    "        order=len(str(i))\n",
    "        temp=i\n",
    "        while temp>0:\n",
    "            digit=temp%10\n",
    "            sum=sum+digit**order\n",
    "            temp//=10\n",
    "        if sum==i:\n",
    "            print(i)\n",
    "            \n",
    "        \n",
    "amstrong(100,2000)\n",
    "     \n"
   ]
  },
  {
   "cell_type": "code",
   "execution_count": 129,
   "metadata": {},
   "outputs": [
    {
     "name": "stdout",
     "output_type": "stream",
     "text": [
      "numbers are: [1, 2, 3, 5, 7, 11, 13, 17, 19, 23, 29, 31, 37, 41, 43, 47, 53, 59, 61, 67, 71, 73, 79, 83, 89, 97]\n"
     ]
    }
   ],
   "source": [
    "###getting prime numbers between range\n",
    "def prime(s,n):\n",
    "    l=[]\n",
    "    for i in range(s,n+1):\n",
    "        count=0\n",
    "        for j in range(2,i+1):\n",
    "            if i%j==0 and i!=j:\n",
    "                count=count+1\n",
    "                break\n",
    "        \n",
    "    if count==0:\n",
    "            l.append(i)\n",
    "\n",
    "print(\"numbers are:\",l)\n",
    "\n",
    "prime(1,100)"
   ]
  },
  {
   "cell_type": "code",
   "execution_count": 128,
   "metadata": {},
   "outputs": [
    {
     "name": "stdout",
     "output_type": "stream",
     "text": [
      "[1, 2, 3, 5, 7, 11, 13, 17, 19, 23, 29, 31, 37, 41, 43, 47, 53, 59, 61, 67, 71, 73, 79, 83, 89, 97]\n"
     ]
    }
   ],
   "source": [
    "l=[]\n",
    "for i in range(1,101):\n",
    "    count=0\n",
    "    for j in range(2,i+1):\n",
    "        if(i%j==0 and i!=j):\n",
    "            count=count+1\n",
    "            break\n",
    "    if(count==0):\n",
    "        l.append(i)\n",
    "print(l)"
   ]
  },
  {
   "cell_type": "code",
   "execution_count": 160,
   "metadata": {},
   "outputs": [],
   "source": [
    "##finding count of elements in string\n",
    "def string():\n",
    "    s='srm university'\n",
    "    s.count('s',0,14)\n",
    "    \n",
    "string()   \n"
   ]
  },
  {
   "cell_type": "code",
   "execution_count": 152,
   "metadata": {},
   "outputs": [
    {
     "data": {
      "text/plain": [
       "2"
      ]
     },
     "execution_count": 152,
     "metadata": {},
     "output_type": "execute_result"
    }
   ],
   "source": [
    " s='srm university'\n",
    "s.count('s')\n",
    "    \n"
   ]
  },
  {
   "cell_type": "code",
   "execution_count": null,
   "metadata": {},
   "outputs": [],
   "source": []
  }
 ],
 "metadata": {
  "kernelspec": {
   "display_name": "Python 3",
   "language": "python",
   "name": "python3"
  },
  "language_info": {
   "codemirror_mode": {
    "name": "ipython",
    "version": 3
   },
   "file_extension": ".py",
   "mimetype": "text/x-python",
   "name": "python",
   "nbconvert_exporter": "python",
   "pygments_lexer": "ipython3",
   "version": "3.7.6"
  }
 },
 "nbformat": 4,
 "nbformat_minor": 4
}
