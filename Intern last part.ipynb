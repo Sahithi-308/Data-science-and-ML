{
 "cells": [
  {
   "cell_type": "markdown",
   "id": "7d0b3df4",
   "metadata": {},
   "source": [
    "Combine Edge Mask with the quantiz img"
   ]
  },
  {
   "cell_type": "code",
   "execution_count": null,
   "id": "8e0f6fa2",
   "metadata": {},
   "outputs": [],
   "source": [
    "def cartoon():\n",
    "    c = cv2.bitwise_and(blurred , blurred , mask= edges )\n",
    "    \n",
    "    plt.imshow(c)\n",
    "    plt.title(\"Cartoonified Image\")\n",
    "    plt.show()\n",
    "    \n",
    "    plt.imshow(org_img)\n",
    "    plt.title(\"org_img\")\n",
    "    plt.show()\n",
    "    \n",
    "    "
   ]
  },
  {
   "cell_type": "code",
   "execution_count": 1,
   "id": "b502ff94",
   "metadata": {},
   "outputs": [
    {
     "ename": "NameError",
     "evalue": "name 'cartoon' is not defined",
     "output_type": "error",
     "traceback": [
      "\u001b[1;31m---------------------------------------------------------------------------\u001b[0m",
      "\u001b[1;31mNameError\u001b[0m                                 Traceback (most recent call last)",
      "\u001b[1;32m<ipython-input-1-aa683c8105cc>\u001b[0m in \u001b[0;36m<module>\u001b[1;34m\u001b[0m\n\u001b[1;32m----> 1\u001b[1;33m \u001b[0mcartoon\u001b[0m\u001b[1;33m(\u001b[0m\u001b[1;33m)\u001b[0m\u001b[1;33m\u001b[0m\u001b[1;33m\u001b[0m\u001b[0m\n\u001b[0m",
      "\u001b[1;31mNameError\u001b[0m: name 'cartoon' is not defined"
     ]
    }
   ],
   "source": [
    "cartoon()"
   ]
  },
  {
   "cell_type": "code",
   "execution_count": null,
   "id": "92b5074d",
   "metadata": {},
   "outputs": [],
   "source": []
  }
 ],
 "metadata": {
  "kernelspec": {
   "display_name": "Python 3",
   "language": "python",
   "name": "python3"
  },
  "language_info": {
   "codemirror_mode": {
    "name": "ipython",
    "version": 3
   },
   "file_extension": ".py",
   "mimetype": "text/x-python",
   "name": "python",
   "nbconvert_exporter": "python",
   "pygments_lexer": "ipython3",
   "version": "3.8.8"
  }
 },
 "nbformat": 4,
 "nbformat_minor": 5
}
