{
 "cells": [
  {
   "cell_type": "code",
   "execution_count": 4,
   "metadata": {},
   "outputs": [
    {
     "data": {
      "text/plain": [
       "'i am a good girl'"
      ]
     },
     "execution_count": 4,
     "metadata": {},
     "output_type": "execute_result"
    }
   ],
   "source": [
    "###converting list of strings into a single string\n",
    "l=[\"i\",\"am\",\"a\",\"good\",\"girl\"]\n",
    "l2=l[0]+' '+l[1]+' '+l[2]+' '+l[3]+' '+l[4]\n",
    "l2"
   ]
  },
  {
   "cell_type": "code",
   "execution_count": 167,
   "metadata": {},
   "outputs": [
    {
     "data": {
      "text/plain": [
       "'sahithi'"
      ]
     },
     "execution_count": 167,
     "metadata": {},
     "output_type": "execute_result"
    }
   ],
   "source": [
    "###converting list of characters into a single string\n",
    "l=['s','a','h','i','t','h','i']\n",
    "\n",
    "l2=''.join(l)\n",
    "l2"
   ]
  },
  {
   "cell_type": "code",
   "execution_count": 12,
   "metadata": {},
   "outputs": [
    {
     "data": {
      "text/plain": [
       "'sahithi'"
      ]
     },
     "execution_count": 12,
     "metadata": {},
     "output_type": "execute_result"
    }
   ],
   "source": [
    "l=['s','a','h','i','t','h','i']\n",
    "l[0]+l[1]+l[2]+l[3]+l[4]+l[5]+l[6]"
   ]
  },
  {
   "cell_type": "code",
   "execution_count": 23,
   "metadata": {},
   "outputs": [
    {
     "name": "stdout",
     "output_type": "stream",
     "text": [
      "even digits are: [2, 4, 6, 78]\n",
      "odd digits are: [1, 3, 5, 9]\n"
     ]
    }
   ],
   "source": [
    "##to seperate even and odd elements in list\n",
    "l=[1,2,3,4,5,6,78,9]\n",
    "l2=[]\n",
    "l3=[]\n",
    "for i in l:\n",
    "    if i%2==0:\n",
    "        l2.append(i)\n",
    "    else:\n",
    "        l3.append(i)\n",
    "print(\"even digits are:\",l2)\n",
    "print(\"odd digits are:\",l3)"
   ]
  },
  {
   "cell_type": "code",
   "execution_count": 44,
   "metadata": {},
   "outputs": [
    {
     "name": "stdout",
     "output_type": "stream",
     "text": [
      "[7, 9, 0, 5, 4, 6]\n"
     ]
    }
   ],
   "source": [
    "###to removes duplicates from the list\n",
    "l=[7,9,9,7,0,5,4,4,4,6]\n",
    "final=[]\n",
    "for i in l:\n",
    "    if i not in final:\n",
    "           final.append(i)\n",
    "print(final)"
   ]
  },
  {
   "cell_type": "code",
   "execution_count": 48,
   "metadata": {},
   "outputs": [
    {
     "name": "stdout",
     "output_type": "stream",
     "text": [
      "['a', 'b', 'c', 'd', 'e', 'r', 'h', 'i']\n"
     ]
    }
   ],
   "source": [
    "l=['a','b','a','b','c','d','e','e','r','h','h','i']\n",
    "temp=[]\n",
    "for i in l:\n",
    "    if i not in temp:\n",
    "        temp.append(i)\n",
    "print(temp)\n",
    "    "
   ]
  },
  {
   "cell_type": "code",
   "execution_count": 168,
   "metadata": {},
   "outputs": [
    {
     "name": "stdout",
     "output_type": "stream",
     "text": [
      "enter your list789\n",
      "it is not empty list\n"
     ]
    }
   ],
   "source": [
    "##empty or not\n",
    "l=input(\"enter your list\")\n",
    "\n",
    "if(len(l)!=0):\n",
    "    print(\"it is not empty list\")\n",
    "else:\n",
    "        print(\"it is empty list\")"
   ]
  },
  {
   "cell_type": "code",
   "execution_count": 71,
   "metadata": {},
   "outputs": [
    {
     "data": {
      "text/plain": [
       "[2, 3, 4, 5, 7]"
      ]
     },
     "execution_count": 71,
     "metadata": {},
     "output_type": "execute_result"
    }
   ],
   "source": [
    "###remove 0,4,5th elements\n",
    "l=[1,2,3,4,5,6,7,8]\n",
    "del l[0]\n",
    "del l[4]\n",
    "del l[5]\n",
    "l"
   ]
  },
  {
   "cell_type": "code",
   "execution_count": 139,
   "metadata": {},
   "outputs": [
    {
     "name": "stdout",
     "output_type": "stream",
     "text": [
      "True\n"
     ]
    }
   ],
   "source": [
    "###take two list and return true if they even have one common element\n",
    "a=[1,2,3,4,5]\n",
    "b=[9,8,6,6,0,8,5,1,7,8]\n",
    "result=False\n",
    "\n",
    "for x in a:\n",
    "    for y in b:\n",
    "        if x==y:\n",
    "            result=True\n",
    "                 \n",
    "            \n",
    "print(result)"
   ]
  },
  {
   "cell_type": "code",
   "execution_count": 148,
   "metadata": {},
   "outputs": [
    {
     "name": "stdout",
     "output_type": "stream",
     "text": [
      "['paru', 'sarayu']\n"
     ]
    }
   ],
   "source": [
    "name=['akash','aksa','manish','paru','sarayu']\n",
    "print([name for name in name if 'u' in name])"
   ]
  },
  {
   "cell_type": "code",
   "execution_count": 149,
   "metadata": {},
   "outputs": [
    {
     "name": "stdout",
     "output_type": "stream",
     "text": [
      "['akash', 'manish']\n"
     ]
    }
   ],
   "source": [
    "print([name for name in name if 'h' in name])"
   ]
  },
  {
   "cell_type": "code",
   "execution_count": 151,
   "metadata": {},
   "outputs": [
    {
     "name": "stdout",
     "output_type": "stream",
     "text": [
      "['akash', 'aksa']\n"
     ]
    }
   ],
   "source": [
    "print([name for name in name if name.startswith('a')])"
   ]
  },
  {
   "cell_type": "code",
   "execution_count": 152,
   "metadata": {},
   "outputs": [
    {
     "data": {
      "text/plain": [
       "['paru', 'sarayu']"
      ]
     },
     "execution_count": 152,
     "metadata": {},
     "output_type": "execute_result"
    }
   ],
   "source": [
    "[name for name in name if name.endswith('u')]"
   ]
  },
  {
   "cell_type": "code",
   "execution_count": 156,
   "metadata": {},
   "outputs": [
    {
     "name": "stdout",
     "output_type": "stream",
     "text": [
      "['sri', 'sai', 'sara']\n",
      "these students belongs to section b\n"
     ]
    }
   ],
   "source": [
    "students=['sri','sai','sara','pari','parveen','pani']\n",
    "print([students for students in students if students.startswith('s')])\n",
    "print(\"these students belongs to section b\")"
   ]
  },
  {
   "cell_type": "code",
   "execution_count": 159,
   "metadata": {},
   "outputs": [
    {
     "data": {
      "text/plain": [
       "('a', 'b')"
      ]
     },
     "execution_count": 159,
     "metadata": {},
     "output_type": "execute_result"
    }
   ],
   "source": [
    "###to remove the duplicates and print tuple except last value\n",
    "\n",
    "t=('a','b','a','b','c')\n",
    "temp=[]\n",
    "for i in t:\n",
    "    if i not in temp:\n",
    "        temp.append(i)\n",
    "tuple(temp[:-1])"
   ]
  },
  {
   "cell_type": "code",
   "execution_count": 163,
   "metadata": {},
   "outputs": [
    {
     "data": {
      "text/plain": [
       "('hi', 'hello', 'good', 'bye')"
      ]
     },
     "execution_count": 163,
     "metadata": {},
     "output_type": "execute_result"
    }
   ],
   "source": [
    "###write a program to replace element by given element\n",
    "l=('hi','hello','sorry','bye')\n",
    "l2=list(l)\n",
    "l2[2]=\"good\"\n",
    "l2\n",
    "tuple(l2)\n",
    "##as tuple is immutable,it ios first converted into list and modified in list"
   ]
  },
  {
   "cell_type": "code",
   "execution_count": 165,
   "metadata": {},
   "outputs": [
    {
     "data": {
      "text/plain": [
       "('i', 'am', 'happy', 'i', 'can', 'help')"
      ]
     },
     "execution_count": 165,
     "metadata": {},
     "output_type": "execute_result"
    }
   ],
   "source": [
    "c=('i','am','sorry','i','cant','help')\n",
    "d=list(c)\n",
    "d[2]=\"happy\"\n",
    "d[4]='can'\n",
    "tuple(d)"
   ]
  },
  {
   "cell_type": "code",
   "execution_count": null,
   "metadata": {},
   "outputs": [],
   "source": []
  }
 ],
 "metadata": {
  "kernelspec": {
   "display_name": "Python 3",
   "language": "python",
   "name": "python3"
  },
  "language_info": {
   "codemirror_mode": {
    "name": "ipython",
    "version": 3
   },
   "file_extension": ".py",
   "mimetype": "text/x-python",
   "name": "python",
   "nbconvert_exporter": "python",
   "pygments_lexer": "ipython3",
   "version": "3.7.6"
  }
 },
 "nbformat": 4,
 "nbformat_minor": 4
}
