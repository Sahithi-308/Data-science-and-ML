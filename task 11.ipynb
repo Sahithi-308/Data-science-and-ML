{
 "cells": [
  {
   "cell_type": "code",
   "execution_count": 10,
   "metadata": {},
   "outputs": [
    {
     "name": "stdout",
     "output_type": "stream",
     "text": [
      "write()\n",
      "a -- appends the data into already existed file\n",
      "\n",
      "readlines() -- reading line by line\n",
      "\n",
      "readline() --- reading a single at a time\n",
      "\n",
      "read() -- reading all the lines from the file\n",
      "\n"
     ]
    }
   ],
   "source": [
    "###printing last 5lines of file\n",
    "f=open(\"file1.txt\",\"r\")\n",
    "lines=f.readlines()\n",
    "\n",
    "for i in range(1,6):\n",
    "    print(lines[i*-1])\n"
   ]
  },
  {
   "cell_type": "code",
   "execution_count": null,
   "metadata": {},
   "outputs": [],
   "source": []
  },
  {
   "cell_type": "code",
   "execution_count": null,
   "metadata": {},
   "outputs": [],
   "source": []
  }
 ],
 "metadata": {
  "kernelspec": {
   "display_name": "Python 3",
   "language": "python",
   "name": "python3"
  },
  "language_info": {
   "codemirror_mode": {
    "name": "ipython",
    "version": 3
   },
   "file_extension": ".py",
   "mimetype": "text/x-python",
   "name": "python",
   "nbconvert_exporter": "python",
   "pygments_lexer": "ipython3",
   "version": "3.7.6"
  }
 },
 "nbformat": 4,
 "nbformat_minor": 4
}
