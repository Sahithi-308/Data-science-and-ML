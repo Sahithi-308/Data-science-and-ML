{
 "cells": [
  {
   "cell_type": "code",
   "execution_count": null,
   "id": "65cbb507",
   "metadata": {},
   "outputs": [],
   "source": [
    "import cv2\n",
    "import numpy as np\n",
    "import matplotlib.pyplot as plt"
   ]
  },
  {
   "cell_type": "markdown",
   "id": "0cecd548",
   "metadata": {},
   "source": [
    "LOAD IMAGE"
   ]
  },
  {
   "cell_type": "code",
   "execution_count": null,
   "id": "e6451bc8",
   "metadata": {},
   "outputs": [],
   "source": [
    "def read_file(filename):\n",
    "    img = cv2.imread(filename)\n",
    "    img = cv2.cvtColor(img , cv2.COLOR_BGR2RGB)\n",
    "    plt.imshow(img)\n",
    "    plt.show()\n",
    "    return img"
   ]
  },
  {
   "cell_type": "code",
   "execution_count": 4,
   "id": "d5299be6",
   "metadata": {},
   "outputs": [
    {
     "ename": "NameError",
     "evalue": "name 'read_file' is not defined",
     "output_type": "error",
     "traceback": [
      "\u001b[1;31m---------------------------------------------------------------------------\u001b[0m",
      "\u001b[1;31mNameError\u001b[0m                                 Traceback (most recent call last)",
      "\u001b[1;32m<ipython-input-4-504a27c57ffb>\u001b[0m in \u001b[0;36m<module>\u001b[1;34m\u001b[0m\n\u001b[0;32m      1\u001b[0m \u001b[0mfilename\u001b[0m \u001b[1;33m=\u001b[0m \u001b[1;34m\"50df217ba8\"\u001b[0m\u001b[1;33m\u001b[0m\u001b[1;33m\u001b[0m\u001b[0m\n\u001b[1;32m----> 2\u001b[1;33m \u001b[0mread_file\u001b[0m\u001b[1;33m(\u001b[0m\u001b[0mfilename\u001b[0m\u001b[1;33m)\u001b[0m\u001b[1;33m\u001b[0m\u001b[1;33m\u001b[0m\u001b[0m\n\u001b[0m",
      "\u001b[1;31mNameError\u001b[0m: name 'read_file' is not defined"
     ]
    }
   ],
   "source": [
    "filename = \"50df217ba8.jpg\"\n",
    "read_file(filename)"
   ]
  },
  {
   "cell_type": "markdown",
   "id": "59be676b",
   "metadata": {},
   "source": [
    "Create Edge Mask"
   ]
  },
  {
   "cell_type": "code",
   "execution_count": null,
   "id": "ae144619",
   "metadata": {},
   "outputs": [],
   "source": [
    "def edge_mask(img , line_size, blur_value):\n",
    "    \"\"\"\n",
    "    input: Gray Scale Image\n",
    "    Outut: Edges of Images\n",
    "    \"\"\"\n",
    "    gray = cv2.cvtColor(img, cv2.COLOR_RGB2GRAY)\n",
    "    gray_blur = cv2.medianBlur(gray, blur_value)\n",
    "    \n",
    "    edges = cv2.adaptiveThreshold(gray_blur, 255, cv2.ADAPTIVE_THRESH_MEAN_C ,cv2.THRESH_BINARY, line_size , blur_value)\n",
    "    \n",
    "    return edges"
   ]
  }
 ],
 "metadata": {
  "kernelspec": {
   "display_name": "Python 3",
   "language": "python",
   "name": "python3"
  },
  "language_info": {
   "codemirror_mode": {
    "name": "ipython",
    "version": 3
   },
   "file_extension": ".py",
   "mimetype": "text/x-python",
   "name": "python",
   "nbconvert_exporter": "python",
   "pygments_lexer": "ipython3",
   "version": "3.8.8"
  }
 },
 "nbformat": 4,
 "nbformat_minor": 5
}
